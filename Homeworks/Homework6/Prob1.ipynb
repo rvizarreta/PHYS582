{
 "cells": [
  {
   "cell_type": "code",
   "execution_count": 1,
   "id": "220a91c5-f98f-4933-805c-8c04372d06d6",
   "metadata": {
    "tags": []
   },
   "outputs": [
    {
     "name": "stdout",
     "output_type": "stream",
     "text": [
      "DUNE plot style enabled\n"
     ]
    },
    {
     "data": {
      "text/plain": [
       "<module 'plot_manager' from '/global/cfs/projectdirs/dune/www/data/2x2/simulation/rvizarr_dev/2x2/Thesis_2x2/plot_manager.py'>"
      ]
     },
     "execution_count": 1,
     "metadata": {},
     "output_type": "execute_result"
    }
   ],
   "source": [
    "# Point to configuration files\n",
    "import sys\n",
    "sys.path.append('/global/cfs/projectdirs/dune/www/data/2x2/simulation/rvizarr_dev/2x2/Thesis_2x2')\n",
    "# Import python packages required for analysis\n",
    "from setup import *\n",
    "# Import CAF Plotting libraries\n",
    "import plot_manager\n",
    "importlib.reload(plot_manager)"
   ]
  },
  {
   "cell_type": "code",
   "execution_count": 17,
   "id": "9588e82a-78a5-49fe-9fbf-f1d5323908e7",
   "metadata": {
    "tags": []
   },
   "outputs": [],
   "source": [
    "E = lambda m, gamma, d, n, c, r0 : ((2*np.pi/3)*((n*m/(8*d*np.pi*n*c*r0**2))*(n*(1.6e-19)**2/(2*np.pi*8.85e-12*m*c))**3))*(2*gamma - 1/gamma)**2"
   ]
  },
  {
   "cell_type": "code",
   "execution_count": 28,
   "id": "8e65bb93-d742-4f57-89b8-b9352d5d5e65",
   "metadata": {
    "tags": []
   },
   "outputs": [
    {
     "data": {
      "text/plain": [
       "2.3503073844450446"
      ]
     },
     "execution_count": 28,
     "metadata": {},
     "output_type": "execute_result"
    }
   ],
   "source": [
    "(E(9.1e-31, 45000/0.511, 1e-3, 1e10, 3e8, 1e-7)/(1.6e-19))/1e9/1e10"
   ]
  },
  {
   "cell_type": "code",
   "execution_count": 29,
   "id": "e251cdb6-7ffe-41f1-8255-6367403c3ad0",
   "metadata": {
    "tags": []
   },
   "outputs": [
    {
     "data": {
      "text/plain": [
       "16.71329695790574"
      ]
     },
     "execution_count": 29,
     "metadata": {},
     "output_type": "execute_result"
    }
   ],
   "source": [
    "E(9.1e-31, 120000/0.511, 1e-3, 1e10, 3e8, 1e-7)/(1.6e-19)/1e9/1e10"
   ]
  },
  {
   "cell_type": "code",
   "execution_count": null,
   "id": "e11a0cfe-c5b1-4c6e-b799-9ca3d1669ca7",
   "metadata": {},
   "outputs": [],
   "source": []
  }
 ],
 "metadata": {
  "kernelspec": {
   "display_name": "cernroot",
   "language": "python",
   "name": "cernroot"
  },
  "language_info": {
   "codemirror_mode": {
    "name": "ipython",
    "version": 3
   },
   "file_extension": ".py",
   "mimetype": "text/x-python",
   "name": "python",
   "nbconvert_exporter": "python",
   "pygments_lexer": "ipython3",
   "version": "3.11.9"
  }
 },
 "nbformat": 4,
 "nbformat_minor": 5
}
