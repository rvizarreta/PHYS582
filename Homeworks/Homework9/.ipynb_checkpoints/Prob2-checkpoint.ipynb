{
 "cells": [
  {
   "cell_type": "code",
   "execution_count": 98,
   "id": "a7e65505-d562-4727-b566-76bf0028a28c",
   "metadata": {
    "tags": []
   },
   "outputs": [
    {
     "data": {
      "text/plain": [
       "<module 'plot_manager' from '/global/cfs/projectdirs/dune/www/data/2x2/simulation/rvizarr_dev/2x2/Thesis_2x2/plot_manager.py'>"
      ]
     },
     "execution_count": 98,
     "metadata": {},
     "output_type": "execute_result"
    }
   ],
   "source": [
    "# Point to configuration files\n",
    "import sys\n",
    "sys.path.append('/global/cfs/projectdirs/dune/www/data/2x2/simulation/rvizarr_dev/2x2/Thesis_2x2')\n",
    "# Import python packages required for analysis\n",
    "from setup import *\n",
    "from collections import Counter\n",
    "# Import CAF Plotting libraries\n",
    "import plot_manager\n",
    "importlib.reload(plot_manager)"
   ]
  },
  {
   "cell_type": "code",
   "execution_count": 70,
   "id": "b23c7b6a-5ed6-44bd-9f72-e19220e42246",
   "metadata": {
    "tags": []
   },
   "outputs": [
    {
     "name": "stdout",
     "output_type": "stream",
     "text": [
      "[[-1.04528463e-01  3.35153879e+01]\n",
      " [-2.95110355e-02 -1.04528463e-01]]\n"
     ]
    }
   ],
   "source": [
    "# SIMULATION PARAMETERS\n",
    "beta, mu = 33.7, 96*np.pi/180 # Twiss parameters\n",
    "emmitance = 3*np.pi # mm mrad\n",
    "n_particles = 1000\n",
    "M = np.array([[np.cos(mu), beta * np.sin(mu)],\n",
    "             [-np.sin(mu)/beta, np.cos(mu)]]) # Transfer matrix\n",
    "print(M)"
   ]
  },
  {
   "cell_type": "code",
   "execution_count": 71,
   "id": "c21e0fee-1aff-4d00-a53c-78f131651bda",
   "metadata": {
    "tags": []
   },
   "outputs": [],
   "source": [
    "# BEAM GENERATOR\n",
    "def get_beam(n_particles):\n",
    "    x = np.random.normal(0, 1.0, n_particles) # initial width of 1mm\n",
    "    x_prime = np.random.normal(0, 0.05, n_particles) # initial width of 0.05mrad\n",
    "    return np.vstack((x, x_prime)).T # return (x,x') pairs in array"
   ]
  },
  {
   "cell_type": "code",
   "execution_count": 72,
   "id": "60e58ece-8dfc-492f-9b44-2c699d9e8d91",
   "metadata": {
    "tags": []
   },
   "outputs": [],
   "source": [
    "# IS LOST FROM THE BOOSTER?\n",
    "is_lost = lambda x, x_prime: (x**2/beta + beta*x_prime**2) > emittance # boolean, true if lost"
   ]
  },
  {
   "cell_type": "code",
   "execution_count": 73,
   "id": "c44fdc32-c473-406d-a3b0-717374523924",
   "metadata": {
    "tags": []
   },
   "outputs": [],
   "source": [
    "# GET THETA RMS\n",
    "theta_RMS = lambda x : 1000*(13.6/(0.71*954))*np.sqrt(x/35600)"
   ]
  },
  {
   "cell_type": "code",
   "execution_count": 151,
   "id": "f0de5287-6603-499d-90ea-5095135e18df",
   "metadata": {
    "tags": []
   },
   "outputs": [],
   "source": [
    "# PARTICLE TRAJECTORY RECOVERY\n",
    "def get_trajectory_with_RMS(x0, lattice_elements, x=0): # Make theta RMS = 0 by default\n",
    "    trajectory = [x0]\n",
    "    x0 = M @ x0\n",
    "    x0[1] += np.random.normal(0, theta_RMS(x))\n",
    "    if is_lost(x0[0], x0[1]): return None\n",
    "    trajectory.append(x0)\n",
    "    for lattice in range(2,lattice_elements+1):\n",
    "        x0 = M @ x0\n",
    "        if x == 5:\n",
    "            random_float = np.random.uniform(0, 100)\n",
    "            if (lattice % 24 == 0) and (random_float<=5): x0[1] += np.random.normal(0, theta_RMS(0))\n",
    "            if (lattice % 24 == 0) and (random_float>5): x0[1] += 0\n",
    "        else:\n",
    "            if (lattice % 24 == 0): x0[1] += np.random.normal(0, theta_RMS(x))\n",
    "        if is_lost(x0[0], x0[1]): return None\n",
    "        trajectory.append(x0)\n",
    "    return np.array(trajectory)"
   ]
  },
  {
   "cell_type": "code",
   "execution_count": null,
   "id": "eec246bd-7986-4788-936b-7e54a5640850",
   "metadata": {
    "tags": []
   },
   "outputs": [],
   "source": [
    "# PLOT GENERATOR\n",
    "def plot_beam_state(particles, title):\n",
    "    fig = plt.figure(figsize=(15, 5))\n",
    "    \n",
    "    # Phase space plot\n",
    "    ax1 = fig.add_subplot(131)\n",
    "    ax1.plot(particles[:,0], particles[:,1], '.', markersize=1.5)\n",
    "    ax1.set_xlabel('x (mm)')\n",
    "    ax1.set_ylabel(\"x' (mrad)\")\n",
    "    ax1.set_title('Phase Space')\n",
    "    ax1.grid(True)\n",
    "    \n",
    "    # x projection\n",
    "    ax2 = fig.add_subplot(132)\n",
    "    ax2.hist(particles[:,0], bins=50, density=True)\n",
    "    ax2.set_xlabel('x (mm)')\n",
    "    ax2.set_title('x Distribution')\n",
    "    \n",
    "    # x' projection\n",
    "    ax3 = fig.add_subplot(133)\n",
    "    ax3.hist(particles[:,1], bins=50, density=True)\n",
    "    ax3.set_xlabel(\"x' (mrad)\")\n",
    "    ax3.set_title(\"x' Distribution\")\n",
    "    \n",
    "    plt.suptitle(title)\n",
    "    plt.tight_layout()\n",
    "    plt.show()"
   ]
  },
  {
   "cell_type": "code",
   "execution_count": null,
   "id": "cda6787c-3b64-422e-9de9-c07af369a005",
   "metadata": {
    "tags": []
   },
   "outputs": [],
   "source": [
    "initial_beam = get_beam(n_particles)\n",
    "for x_foil in [0,1,5]: # um\n",
    "    for fodo in [0,1,16,24,120,960]:\n",
    "        beam_end_positions = []\n",
    "        for particle in initial_beam:\n",
    "            trajectories = get_trajectory_with_RMS(particle, fodo, x=x_foil) # Array of particle positions\n",
    "            if trajectories is not None:\n",
    "                beam_end_positions.append(list(trajectories[-1])) # Saving only last particle position in phase space\n",
    "        beam_end_positions = np.array(beam_end_positions)\n",
    "        surviving_particles = len(beam_end_positions)\n",
    "        missed_particles = n_particles - surviving_particles\n",
    "        fraction = 1-missed_particles/surviving_particles\n",
    "        x_rms, xprime_rms = np.sqrt(np.mean(beam_end_positions[:, 0]**2)), np.sqrt(np.mean(beam_end_positions[:, 1]**2))\n",
    "        plot_beam_state(beam_end_positions, f'Beam after {fodo} FODO elements for x foil = {x_foil} um. Surviving particles: {surviving_particles}. Missed particles: {missed_particles}. Surviving fraction: {fraction}. x_rms = {x_rms:.2f} mm. xprime_rms = {xprime_rms:.2f} mrad')"
   ]
  },
  {
   "cell_type": "code",
   "execution_count": null,
   "id": "6a446bc0-9821-41d5-ac0b-247012de6727",
   "metadata": {},
   "outputs": [],
   "source": []
  }
 ],
 "metadata": {
  "kernelspec": {
   "display_name": "cernroot",
   "language": "python",
   "name": "cernroot"
  },
  "language_info": {
   "codemirror_mode": {
    "name": "ipython",
    "version": 3
   },
   "file_extension": ".py",
   "mimetype": "text/x-python",
   "name": "python",
   "nbconvert_exporter": "python",
   "pygments_lexer": "ipython3",
   "version": "3.11.9"
  }
 },
 "nbformat": 4,
 "nbformat_minor": 5
}
