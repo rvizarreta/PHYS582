{
 "cells": [
  {
   "cell_type": "code",
   "execution_count": 1,
   "id": "bed8c22f-ada7-420a-bed8-a279387ead31",
   "metadata": {
    "tags": []
   },
   "outputs": [
    {
     "name": "stdout",
     "output_type": "stream",
     "text": [
      "DUNE plot style enabled\n"
     ]
    },
    {
     "data": {
      "text/plain": [
       "<module 'plot_manager' from '/global/cfs/projectdirs/dune/www/data/2x2/simulation/rvizarr_dev/2x2/Thesis_2x2/plot_manager.py'>"
      ]
     },
     "execution_count": 1,
     "metadata": {},
     "output_type": "execute_result"
    }
   ],
   "source": [
    "# Point to configuration files\n",
    "import sys\n",
    "sys.path.append('/global/cfs/projectdirs/dune/www/data/2x2/simulation/rvizarr_dev/2x2/Thesis_2x2')\n",
    "# Import python packages required for analysis\n",
    "from setup import *\n",
    "# Import CAF Plotting libraries\n",
    "import plot_manager\n",
    "importlib.reload(plot_manager)"
   ]
  },
  {
   "cell_type": "code",
   "execution_count": 13,
   "id": "64b1dc96-9251-44df-bc19-fcd1cd8e5499",
   "metadata": {
    "tags": []
   },
   "outputs": [
    {
     "name": "stdout",
     "output_type": "stream",
     "text": [
      "-- CASE 1 -----------------------\n",
      "Mean: 0.118\n",
      "Expected Mean: 0\n",
      "Variance: 50.151676\n",
      "Expected Variance: 50\n",
      "RMS: 7.082767820562806\n",
      "Expected RMS: 7.0710678118654755\n",
      "-- CASE 2 -----------------------\n",
      "Mean: -25.2277\n",
      "Expected Mean: -25.0\n",
      "Variance: 112.72805271\n",
      "Expected Variance: 112.5\n",
      "RMS: 27.370876858442077\n",
      "Expected RMS: 27.15695122800054\n"
     ]
    }
   ],
   "source": [
    "# CASE 1\n",
    "end_position = []\n",
    "N, iterations = 50, 10000\n",
    "\n",
    "for iteration in range(iterations):\n",
    "    position = 0\n",
    "    throws = np.random.randint(0, 2, size=int(N))\n",
    "    for throw in throws:\n",
    "        if throw == 0: #tails\n",
    "            position -= 1\n",
    "        else: #heads\n",
    "            position += 1\n",
    "    end_position.append(position)\n",
    "\n",
    "end_position = np.array(end_position)\n",
    "\n",
    "print(\"-- CASE 1 -----------------------\")\n",
    "mean = np.mean(end_position)\n",
    "expected_mean = 0\n",
    "print(f\"Mean: {mean}\")\n",
    "print(f\"Expected Mean: {expected_mean}\")\n",
    "variance = np.var(end_position)\n",
    "expected_variance = N\n",
    "print(f\"Variance: {variance}\")\n",
    "print(f\"Expected Variance: {expected_variance}\")\n",
    "rms = np.sqrt(np.mean(end_position**2))\n",
    "expected_rms = np.sqrt(N)\n",
    "print(f\"RMS: {rms}\")\n",
    "print(f\"Expected RMS: {expected_rms}\")\n",
    "\n",
    "# CASE 2\n",
    "end_position = []\n",
    "\n",
    "for iteration in range(iterations):\n",
    "    position = 0\n",
    "    throws = np.random.randint(0, 2, size=int(N))\n",
    "    for throw in throws:\n",
    "        if throw == 0: #tails\n",
    "            position -= 2\n",
    "        else: #heads\n",
    "            position += 1\n",
    "    end_position.append(position)\n",
    "\n",
    "end_position = np.array(end_position)\n",
    "\n",
    "print(\"-- CASE 2 -----------------------\")\n",
    "mean = np.mean(end_position)\n",
    "expected_mean = -N/2\n",
    "print(f\"Mean: {mean}\")\n",
    "print(f\"Expected Mean: {expected_mean}\")\n",
    "variance = np.var(end_position)\n",
    "expected_variance = 9*N/4\n",
    "print(f\"Variance: {variance}\")\n",
    "print(f\"Expected Variance: {expected_variance}\")\n",
    "rms = np.sqrt(np.mean(end_position**2))\n",
    "expected_rms = np.sqrt((N/4)*(N+9))\n",
    "print(f\"RMS: {rms}\")\n",
    "print(f\"Expected RMS: {expected_rms}\")"
   ]
  },
  {
   "cell_type": "code",
   "execution_count": null,
   "id": "66d70364-85cc-48d1-b04e-e15b95ff011a",
   "metadata": {},
   "outputs": [],
   "source": []
  }
 ],
 "metadata": {
  "kernelspec": {
   "display_name": "cernroot",
   "language": "python",
   "name": "cernroot"
  },
  "language_info": {
   "codemirror_mode": {
    "name": "ipython",
    "version": 3
   },
   "file_extension": ".py",
   "mimetype": "text/x-python",
   "name": "python",
   "nbconvert_exporter": "python",
   "pygments_lexer": "ipython3",
   "version": "3.11.9"
  }
 },
 "nbformat": 4,
 "nbformat_minor": 5
}
